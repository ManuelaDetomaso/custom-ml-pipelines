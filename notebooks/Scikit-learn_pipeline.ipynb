{
 "cells": [
  {
   "cell_type": "code",
   "execution_count": 1,
   "metadata": {
    "ExecuteTime": {
     "end_time": "2020-06-12T16:23:52.421418Z",
     "start_time": "2020-06-12T16:23:52.367971Z"
    }
   },
   "outputs": [],
   "source": [
    "%load_ext autoreload\n",
    "%autoreload 2"
   ]
  },
  {
   "cell_type": "code",
   "execution_count": 2,
   "metadata": {
    "ExecuteTime": {
     "end_time": "2020-06-12T16:23:55.044514Z",
     "start_time": "2020-06-12T16:23:52.807576Z"
    }
   },
   "outputs": [],
   "source": [
    "# Python ≥3.5 is required\n",
    "import sys\n",
    "assert sys.version_info >= (3, 5)\n",
    "\n",
    "# Scikit-Learn ≥0.20 is required\n",
    "import sklearn\n",
    "assert sklearn.__version__ >= \"0.20\"\n",
    "from sklearn.ensemble import RandomForestRegressor\n",
    "from sklearn.metrics import mean_squared_error\n",
    "\n",
    "# Common imports\n",
    "import json\n",
    "import numpy as np\n",
    "import pandas as pd\n",
    "from pathlib import Path\n",
    "from pickle import dump, load\n",
    "import os\n",
    "\n",
    "# Ignore useless warnings \n",
    "import warnings\n",
    "warnings.filterwarnings(action=\"ignore\", message=\"^internal gelsd\")"
   ]
  },
  {
   "cell_type": "code",
   "execution_count": 3,
   "metadata": {
    "ExecuteTime": {
     "end_time": "2020-06-12T16:23:55.128927Z",
     "start_time": "2020-06-12T16:23:55.044514Z"
    }
   },
   "outputs": [],
   "source": [
    "# set the repo root directory to use as base path\n",
    "os.chdir((Path.cwd() / \"\").parents[0]) # to change with base path\n",
    "root_path = os.getcwd()"
   ]
  },
  {
   "cell_type": "code",
   "execution_count": 4,
   "metadata": {
    "ExecuteTime": {
     "end_time": "2020-06-12T16:23:55.244560Z",
     "start_time": "2020-06-12T16:23:55.128927Z"
    }
   },
   "outputs": [],
   "source": [
    "# Import project specific libraries\n",
    "from src.config import read_config\n",
    "from src.input_collector import InputArguments, DataAccessor\n",
    "from src.sk_pipeline_modeler import sklearn_dataflow, CustomModelTrainer, CustomTrainTestSplit"
   ]
  },
  {
   "cell_type": "markdown",
   "metadata": {
    "ExecuteTime": {
     "end_time": "2020-05-22T14:21:03.758594Z",
     "start_time": "2020-05-22T14:21:03.680943Z"
    }
   },
   "source": [
    "# Configuration Settings"
   ]
  },
  {
   "cell_type": "code",
   "execution_count": 5,
   "metadata": {
    "ExecuteTime": {
     "end_time": "2020-06-12T16:23:55.358200Z",
     "start_time": "2020-06-12T16:23:55.244560Z"
    }
   },
   "outputs": [
    {
     "name": "stdout",
     "output_type": "stream",
     "text": [
      "Training configurations filepath: C:/Users/mdetomaso/Desktop/K_Code/custom-ml-pipelines/conf/config.json\n",
      "Reading Housing model configuration ........\n"
     ]
    }
   ],
   "source": [
    "# identify the path to the configurations folder\n",
    "config_path = str(root_path.replace(\"\\\\\", \"/\") +\"/\"+\"conf\")\n",
    "args = InputArguments(pathConfFile=config_path)\n",
    "\n",
    "def prepare_config_path(args) -> dict:\n",
    "    config_path = f\"{args.pathConfFile}/{{}}\"\n",
    "    print(\"Training configurations filepath: {}\".format(config_path.format(\"config.json\")))\n",
    "    return {\"config\": config_path.format(\"config.json\")}\n",
    "\n",
    "file_paths = prepare_config_path(args)\n",
    "\n",
    "# Read config.py\n",
    "print(\"Reading Housing model configuration ........\")\n",
    "config_path = file_paths[\"config\"]\n",
    "cfg = read_config(config_path=config_path)"
   ]
  },
  {
   "cell_type": "markdown",
   "metadata": {},
   "source": [
    "# Training"
   ]
  },
  {
   "cell_type": "markdown",
   "metadata": {
    "ExecuteTime": {
     "end_time": "2020-05-19T17:34:55.298145Z",
     "start_time": "2020-05-19T17:34:55.236903Z"
    }
   },
   "source": [
    "## Collect Housing Data"
   ]
  },
  {
   "cell_type": "code",
   "execution_count": 7,
   "metadata": {
    "ExecuteTime": {
     "end_time": "2020-06-12T16:25:34.161398Z",
     "start_time": "2020-06-12T16:25:32.685678Z"
    }
   },
   "outputs": [
    {
     "name": "stdout",
     "output_type": "stream",
     "text": [
      "Housing data loaded successfully.\n"
     ]
    },
    {
     "data": {
      "text/html": [
       "<div>\n",
       "<style scoped>\n",
       "    .dataframe tbody tr th:only-of-type {\n",
       "        vertical-align: middle;\n",
       "    }\n",
       "\n",
       "    .dataframe tbody tr th {\n",
       "        vertical-align: top;\n",
       "    }\n",
       "\n",
       "    .dataframe thead th {\n",
       "        text-align: right;\n",
       "    }\n",
       "</style>\n",
       "<table border=\"1\" class=\"dataframe\">\n",
       "  <thead>\n",
       "    <tr style=\"text-align: right;\">\n",
       "      <th></th>\n",
       "      <th>longitude</th>\n",
       "      <th>latitude</th>\n",
       "      <th>housing_median_age</th>\n",
       "      <th>total_rooms</th>\n",
       "      <th>total_bedrooms</th>\n",
       "      <th>population</th>\n",
       "      <th>households</th>\n",
       "      <th>median_income</th>\n",
       "      <th>median_house_value</th>\n",
       "      <th>ocean_proximity</th>\n",
       "    </tr>\n",
       "  </thead>\n",
       "  <tbody>\n",
       "    <tr>\n",
       "      <th>0</th>\n",
       "      <td>-122.23</td>\n",
       "      <td>37.88</td>\n",
       "      <td>41.0</td>\n",
       "      <td>880.0</td>\n",
       "      <td>129.0</td>\n",
       "      <td>322.0</td>\n",
       "      <td>126.0</td>\n",
       "      <td>8.3252</td>\n",
       "      <td>452600.0</td>\n",
       "      <td>NEAR BAY</td>\n",
       "    </tr>\n",
       "    <tr>\n",
       "      <th>1</th>\n",
       "      <td>-122.22</td>\n",
       "      <td>37.86</td>\n",
       "      <td>21.0</td>\n",
       "      <td>7099.0</td>\n",
       "      <td>1106.0</td>\n",
       "      <td>2401.0</td>\n",
       "      <td>1138.0</td>\n",
       "      <td>8.3014</td>\n",
       "      <td>358500.0</td>\n",
       "      <td>NEAR BAY</td>\n",
       "    </tr>\n",
       "    <tr>\n",
       "      <th>2</th>\n",
       "      <td>-122.24</td>\n",
       "      <td>37.85</td>\n",
       "      <td>52.0</td>\n",
       "      <td>1467.0</td>\n",
       "      <td>190.0</td>\n",
       "      <td>496.0</td>\n",
       "      <td>177.0</td>\n",
       "      <td>7.2574</td>\n",
       "      <td>352100.0</td>\n",
       "      <td>NEAR BAY</td>\n",
       "    </tr>\n",
       "    <tr>\n",
       "      <th>3</th>\n",
       "      <td>-122.25</td>\n",
       "      <td>37.85</td>\n",
       "      <td>52.0</td>\n",
       "      <td>1274.0</td>\n",
       "      <td>235.0</td>\n",
       "      <td>558.0</td>\n",
       "      <td>219.0</td>\n",
       "      <td>5.6431</td>\n",
       "      <td>341300.0</td>\n",
       "      <td>NEAR BAY</td>\n",
       "    </tr>\n",
       "    <tr>\n",
       "      <th>4</th>\n",
       "      <td>-122.25</td>\n",
       "      <td>37.85</td>\n",
       "      <td>52.0</td>\n",
       "      <td>1627.0</td>\n",
       "      <td>280.0</td>\n",
       "      <td>565.0</td>\n",
       "      <td>259.0</td>\n",
       "      <td>3.8462</td>\n",
       "      <td>342200.0</td>\n",
       "      <td>NEAR BAY</td>\n",
       "    </tr>\n",
       "  </tbody>\n",
       "</table>\n",
       "</div>"
      ],
      "text/plain": [
       "   longitude  latitude  housing_median_age  total_rooms  total_bedrooms  \\\n",
       "0    -122.23     37.88                41.0        880.0           129.0   \n",
       "1    -122.22     37.86                21.0       7099.0          1106.0   \n",
       "2    -122.24     37.85                52.0       1467.0           190.0   \n",
       "3    -122.25     37.85                52.0       1274.0           235.0   \n",
       "4    -122.25     37.85                52.0       1627.0           280.0   \n",
       "\n",
       "   population  households  median_income  median_house_value ocean_proximity  \n",
       "0       322.0       126.0         8.3252            452600.0        NEAR BAY  \n",
       "1      2401.0      1138.0         8.3014            358500.0        NEAR BAY  \n",
       "2       496.0       177.0         7.2574            352100.0        NEAR BAY  \n",
       "3       558.0       219.0         5.6431            341300.0        NEAR BAY  \n",
       "4       565.0       259.0         3.8462            342200.0        NEAR BAY  "
      ]
     },
     "execution_count": 7,
     "metadata": {},
     "output_type": "execute_result"
    }
   ],
   "source": [
    "# Access housing data\n",
    "housing = DataAccessor(**cfg.input_config).load_housing_data()\n",
    "housing.head()"
   ]
  },
  {
   "cell_type": "markdown",
   "metadata": {},
   "source": [
    "## Train / Test split"
   ]
  },
  {
   "cell_type": "code",
   "execution_count": 8,
   "metadata": {
    "ExecuteTime": {
     "end_time": "2020-06-12T16:25:35.512603Z",
     "start_time": "2020-06-12T16:25:35.158567Z"
    },
    "scrolled": false
   },
   "outputs": [
    {
     "name": "stdout",
     "output_type": "stream",
     "text": [
      "Stratified Train / Test split.\n",
      "Train set dimesions: (16512, 11)\n",
      "Test set dimesions: (4128, 11)\n",
      "Train target dimesions: (16512,)\n",
      "Test target dimesions: (4128,)\n",
      "Wrote data/outputs/partitions/train_set.csv\n",
      "Wrote data/outputs/partitions/test_set.csv\n",
      "Wrote data/outputs/partitions/train_target.csv\n",
      "Wrote data/outputs/partitions/test_target.csv\n"
     ]
    }
   ],
   "source": [
    "# Apply train / test split stratified on median income attribute\n",
    "train_set, test_set, train_target, test_target = CustomTrainTestSplit(**cfg.testing_config).transform(housing)\n",
    "\n",
    "# DUMP artitioned data\n",
    "paths = [cfg.trainset_path, cfg.testset_path, cfg.train_target_path, cfg.test_target_path]\n",
    "partitions = [train_set, test_set, train_target, test_target]\n",
    "\n",
    "# save partitioned data\n",
    "if not os.path.isdir(cfg.partitions_path):\n",
    "    os.makedirs(cfg.partitions_path)    \n",
    "for data, path in zip(partitions, paths):\n",
    "    data.to_csv(path, index=False)\n",
    "    print(\"Wrote {}\".format(path))"
   ]
  },
  {
   "cell_type": "markdown",
   "metadata": {},
   "source": [
    "## Apply standard sklearn Pipeline"
   ]
  },
  {
   "cell_type": "code",
   "execution_count": 9,
   "metadata": {
    "ExecuteTime": {
     "end_time": "2020-06-12T16:25:35.860334Z",
     "start_time": "2020-06-12T16:25:35.760063Z"
    }
   },
   "outputs": [
    {
     "name": "stdout",
     "output_type": "stream",
     "text": [
      "Sklearn Housing Prediction Pipeline created.\n",
      "Numerical missing values imputed.\n",
      "New numerical attributes created.\n"
     ]
    }
   ],
   "source": [
    "# Fit the numerical pipeline to save the scaler across all data\n",
    "num_pipeline, cat_pipeline, features_pipe, housing_full_pipeline = sklearn_dataflow(config=cfg)\n",
    "num_pipeline.fit(housing)\n",
    "\n",
    "# Save fitted scaler\n",
    "if not os.path.isdir(cfg.artifacts_path):\n",
    "    os.makedirs(cfg.artifacts_path)\n",
    "    \n",
    "scaler = num_pipeline.named_steps['std_scaler']\n",
    "f = open(cfg.scaler_path, 'wb')\n",
    "dump(scaler, f)\n",
    "f.close()"
   ]
  },
  {
   "cell_type": "code",
   "execution_count": 10,
   "metadata": {
    "ExecuteTime": {
     "end_time": "2020-06-12T16:25:36.195831Z",
     "start_time": "2020-06-12T16:25:36.044979Z"
    }
   },
   "outputs": [
    {
     "name": "stdout",
     "output_type": "stream",
     "text": [
      "Sklearn Housing Prediction Pipeline created.\n",
      "Numerical missing values imputed.\n",
      "New numerical attributes created.\n",
      "Categorical missing values imputed.\n",
      "Categorical data encoded.\n"
     ]
    },
    {
     "data": {
      "text/plain": [
       "array([[-121.89,   37.29,   38.  , ...,    0.  ,    0.  ,    0.  ],\n",
       "       [-121.93,   37.05,   14.  , ...,    0.  ,    0.  ,    0.  ],\n",
       "       [-117.2 ,   32.77,   31.  , ...,    0.  ,    0.  ,    1.  ],\n",
       "       ...,\n",
       "       [-116.4 ,   34.09,    9.  , ...,    0.  ,    0.  ,    0.  ],\n",
       "       [-118.01,   33.82,   31.  , ...,    0.  ,    0.  ,    0.  ],\n",
       "       [-122.45,   37.77,   52.  , ...,    0.  ,    1.  ,    0.  ]])"
      ]
     },
     "execution_count": 10,
     "metadata": {},
     "output_type": "execute_result"
    }
   ],
   "source": [
    "# Load scaler across all housing data\n",
    "scaler = load(open(cfg.scaler_path, 'rb'))\n",
    "\n",
    "# Process the training set\n",
    "num_pipeline, cat_pipeline, features_pipe, housing_full_pipeline = sklearn_dataflow(config=cfg, scaler = scaler)\n",
    "prepared_trainset = features_pipe.fit_transform(train_set)\n",
    "prepared_trainset"
   ]
  },
  {
   "cell_type": "markdown",
   "metadata": {},
   "source": [
    "## Train the model and save the best one"
   ]
  },
  {
   "cell_type": "code",
   "execution_count": 11,
   "metadata": {
    "ExecuteTime": {
     "end_time": "2020-06-12T16:26:14.375548Z",
     "start_time": "2020-06-12T16:25:36.748599Z"
    }
   },
   "outputs": [
    {
     "name": "stderr",
     "output_type": "stream",
     "text": [
      "C:\\Users\\mdetomaso\\Anaconda3\\envs\\demo\\lib\\site-packages\\sklearn\\model_selection\\_search.py:278: UserWarning: The total space of parameters 1 is smaller than n_iter=10. Running 1 iterations. For exhaustive searches, use GridSearchCV.\n",
      "  warnings.warn(\n"
     ]
    }
   ],
   "source": [
    "# OPTION 1: pass transformed data and ML estimator separately\n",
    "estimator1 = RandomForestRegressor()\n",
    "trainer = CustomModelTrainer(estimator1, **cfg.training_config).train(\n",
    "    X=prepared_trainset, y=train_target\n",
    ")\n",
    "\n",
    "final_model_1 = trainer.best_estimator_\n",
    "\n",
    "# OPTION 2: pass full pipeline with the estimator included\n",
    "# NOTE: need to modify params_grid consistently\n",
    "# estimator2 = housing_full_pipeline\n",
    "# trainer = CustomModelTrainer(estimator2, **cfg.training_config).train(\n",
    "#    X=train_set, y=train_target\n",
    "# )\n",
    "\n",
    "# final_model_2 = trainer.best_estimator_"
   ]
  },
  {
   "cell_type": "code",
   "execution_count": 12,
   "metadata": {
    "ExecuteTime": {
     "end_time": "2020-06-12T16:26:14.572714Z",
     "start_time": "2020-06-12T16:26:14.377598Z"
    }
   },
   "outputs": [
    {
     "name": "stdout",
     "output_type": "stream",
     "text": [
      "House model saved.\n"
     ]
    }
   ],
   "source": [
    "# SAVE the best estimator\n",
    "if not os.path.isdir(cfg.artifacts_path):\n",
    "    os.makedirs(cfg.artifacts_path)\n",
    "dump(final_model_1, open(cfg.model_path, 'wb'))\n",
    "print(\"House model saved.\")"
   ]
  },
  {
   "cell_type": "code",
   "execution_count": 13,
   "metadata": {
    "ExecuteTime": {
     "end_time": "2020-06-12T16:26:14.664884Z",
     "start_time": "2020-06-12T16:26:14.572714Z"
    }
   },
   "outputs": [],
   "source": [
    "# OPTIONAL: Explore used hyperparamters in each run\n",
    "# cvres = rnd_search.cv_results_\n",
    "# for mean_score, params in zip(cvres[\"mean_test_score\"], cvres[\"params\"]):\n",
    "#    print(np.sqrt(-mean_score), params)"
   ]
  },
  {
   "cell_type": "code",
   "execution_count": 14,
   "metadata": {
    "ExecuteTime": {
     "end_time": "2020-06-12T16:26:14.756436Z",
     "start_time": "2020-06-12T16:26:14.664884Z"
    }
   },
   "outputs": [],
   "source": [
    "# OPTIONAL: Inspect Pipeline paramters\n",
    "# for param in housing_full_pipeline.get_params().keys():\n",
    "#    print(param)"
   ]
  },
  {
   "cell_type": "markdown",
   "metadata": {},
   "source": [
    "# Testing"
   ]
  },
  {
   "cell_type": "markdown",
   "metadata": {},
   "source": [
    "## Collect Data to predict"
   ]
  },
  {
   "cell_type": "code",
   "execution_count": 15,
   "metadata": {
    "ExecuteTime": {
     "end_time": "2020-06-12T16:26:14.892347Z",
     "start_time": "2020-06-12T16:26:14.762910Z"
    }
   },
   "outputs": [
    {
     "name": "stdout",
     "output_type": "stream",
     "text": [
      "Test data loaded.\n"
     ]
    },
    {
     "data": {
      "text/html": [
       "<div>\n",
       "<style scoped>\n",
       "    .dataframe tbody tr th:only-of-type {\n",
       "        vertical-align: middle;\n",
       "    }\n",
       "\n",
       "    .dataframe tbody tr th {\n",
       "        vertical-align: top;\n",
       "    }\n",
       "\n",
       "    .dataframe thead th {\n",
       "        text-align: right;\n",
       "    }\n",
       "</style>\n",
       "<table border=\"1\" class=\"dataframe\">\n",
       "  <thead>\n",
       "    <tr style=\"text-align: right;\">\n",
       "      <th></th>\n",
       "      <th>longitude</th>\n",
       "      <th>latitude</th>\n",
       "      <th>housing_median_age</th>\n",
       "      <th>total_rooms</th>\n",
       "      <th>total_bedrooms</th>\n",
       "      <th>population</th>\n",
       "      <th>households</th>\n",
       "      <th>median_income</th>\n",
       "      <th>ocean_proximity</th>\n",
       "    </tr>\n",
       "  </thead>\n",
       "  <tbody>\n",
       "    <tr>\n",
       "      <th>0</th>\n",
       "      <td>-118.39</td>\n",
       "      <td>34.12</td>\n",
       "      <td>29.0</td>\n",
       "      <td>6447.0</td>\n",
       "      <td>1012.0</td>\n",
       "      <td>2184.0</td>\n",
       "      <td>960.0</td>\n",
       "      <td>8.2816</td>\n",
       "      <td>&lt;1H OCEAN</td>\n",
       "    </tr>\n",
       "    <tr>\n",
       "      <th>1</th>\n",
       "      <td>-117.86</td>\n",
       "      <td>33.77</td>\n",
       "      <td>39.0</td>\n",
       "      <td>4159.0</td>\n",
       "      <td>655.0</td>\n",
       "      <td>1669.0</td>\n",
       "      <td>651.0</td>\n",
       "      <td>4.6111</td>\n",
       "      <td>&lt;1H OCEAN</td>\n",
       "    </tr>\n",
       "    <tr>\n",
       "      <th>2</th>\n",
       "      <td>-119.05</td>\n",
       "      <td>34.21</td>\n",
       "      <td>27.0</td>\n",
       "      <td>4357.0</td>\n",
       "      <td>926.0</td>\n",
       "      <td>2110.0</td>\n",
       "      <td>876.0</td>\n",
       "      <td>3.0119</td>\n",
       "      <td>&lt;1H OCEAN</td>\n",
       "    </tr>\n",
       "    <tr>\n",
       "      <th>3</th>\n",
       "      <td>-118.15</td>\n",
       "      <td>34.20</td>\n",
       "      <td>52.0</td>\n",
       "      <td>1786.0</td>\n",
       "      <td>306.0</td>\n",
       "      <td>1018.0</td>\n",
       "      <td>322.0</td>\n",
       "      <td>4.1518</td>\n",
       "      <td>INLAND</td>\n",
       "    </tr>\n",
       "    <tr>\n",
       "      <th>4</th>\n",
       "      <td>-117.68</td>\n",
       "      <td>34.07</td>\n",
       "      <td>32.0</td>\n",
       "      <td>1775.0</td>\n",
       "      <td>314.0</td>\n",
       "      <td>1067.0</td>\n",
       "      <td>302.0</td>\n",
       "      <td>4.0375</td>\n",
       "      <td>INLAND</td>\n",
       "    </tr>\n",
       "  </tbody>\n",
       "</table>\n",
       "</div>"
      ],
      "text/plain": [
       "   longitude  latitude  housing_median_age  total_rooms  total_bedrooms  \\\n",
       "0    -118.39     34.12                29.0       6447.0          1012.0   \n",
       "1    -117.86     33.77                39.0       4159.0           655.0   \n",
       "2    -119.05     34.21                27.0       4357.0           926.0   \n",
       "3    -118.15     34.20                52.0       1786.0           306.0   \n",
       "4    -117.68     34.07                32.0       1775.0           314.0   \n",
       "\n",
       "   population  households  median_income ocean_proximity  \n",
       "0      2184.0       960.0         8.2816       <1H OCEAN  \n",
       "1      1669.0       651.0         4.6111       <1H OCEAN  \n",
       "2      2110.0       876.0         3.0119       <1H OCEAN  \n",
       "3      1018.0       322.0         4.1518          INLAND  \n",
       "4      1067.0       302.0         4.0375          INLAND  "
      ]
     },
     "execution_count": 15,
     "metadata": {},
     "output_type": "execute_result"
    }
   ],
   "source": [
    "# LOAD DATA\n",
    "test_set = pd.read_csv(cfg.testset_path)\n",
    "test_target = pd.read_csv(cfg.test_target_path)\n",
    "\n",
    "print(\"Test data loaded.\")\n",
    "test_set.head()"
   ]
  },
  {
   "cell_type": "markdown",
   "metadata": {},
   "source": [
    "## Get feature engineering pipeline "
   ]
  },
  {
   "cell_type": "code",
   "execution_count": 16,
   "metadata": {
    "ExecuteTime": {
     "end_time": "2020-06-12T16:26:15.007612Z",
     "start_time": "2020-06-12T16:26:14.892347Z"
    }
   },
   "outputs": [
    {
     "name": "stdout",
     "output_type": "stream",
     "text": [
      "Sklearn Housing Prediction Pipeline created.\n",
      "Numerical missing values imputed.\n",
      "New numerical attributes created.\n",
      "Categorical missing values imputed.\n",
      "Categorical data encoded.\n"
     ]
    },
    {
     "data": {
      "text/plain": [
       "array([[-118.39,   34.12,   29.  , ...,    0.  ,    0.  ,    0.  ],\n",
       "       [-117.86,   33.77,   39.  , ...,    0.  ,    0.  ,    0.  ],\n",
       "       [-119.05,   34.21,   27.  , ...,    0.  ,    0.  ,    0.  ],\n",
       "       ...,\n",
       "       [-118.49,   34.18,   31.  , ...,    0.  ,    0.  ,    0.  ],\n",
       "       [-117.32,   33.99,   27.  , ...,    0.  ,    0.  ,    0.  ],\n",
       "       [-118.91,   36.79,   19.  , ...,    0.  ,    0.  ,    0.  ]])"
      ]
     },
     "execution_count": 16,
     "metadata": {},
     "output_type": "execute_result"
    }
   ],
   "source": [
    "num_pipe, cat_pipe, feature_pipe, housing_pipeline = sklearn_dataflow(config=cfg, scaler=scaler)\n",
    "processed_test = feature_pipe.fit_transform(test_set)\n",
    "processed_test"
   ]
  },
  {
   "cell_type": "markdown",
   "metadata": {},
   "source": [
    "## Make predictions on test data"
   ]
  },
  {
   "cell_type": "code",
   "execution_count": 17,
   "metadata": {
    "ExecuteTime": {
     "end_time": "2020-06-12T16:26:15.459801Z",
     "start_time": "2020-06-12T16:26:15.007612Z"
    }
   },
   "outputs": [
    {
     "name": "stdout",
     "output_type": "stream",
     "text": [
      "Fitted housing pipeline loaded.\n",
      "Predictions are: [487546.82 271099.   230383.01 ... 340668.05 157825.   127998.01]\n"
     ]
    }
   ],
   "source": [
    "# LOAD trained model\n",
    "final_model = load(open(cfg.model_path, 'rb'))\n",
    "print(\"Fitted housing pipeline loaded.\")\n",
    "final_predictions = final_model.predict(processed_test)\n",
    "print(\"Predictions are: {}\".format(final_predictions))"
   ]
  },
  {
   "cell_type": "markdown",
   "metadata": {
    "ExecuteTime": {
     "end_time": "2020-05-27T08:36:06.579539Z",
     "start_time": "2020-05-27T08:36:06.486040Z"
    }
   },
   "source": [
    "## Evaluate Predictions"
   ]
  },
  {
   "cell_type": "code",
   "execution_count": 19,
   "metadata": {
    "ExecuteTime": {
     "end_time": "2020-06-12T18:19:39.902745Z",
     "start_time": "2020-06-12T18:19:39.701571Z"
    }
   },
   "outputs": [
    {
     "name": "stdout",
     "output_type": "stream",
     "text": [
      "Prediction error is 47220.85 $\n"
     ]
    }
   ],
   "source": [
    "final_rmse = np.sqrt(mean_squared_error(test_target, final_predictions))\n",
    "print(\"Prediction error is {} $\".format(round(final_rmse,2)))"
   ]
  }
 ],
 "metadata": {
  "kernelspec": {
   "display_name": "Python [conda env:demo] *",
   "language": "python",
   "name": "conda-env-demo-py"
  },
  "language_info": {
   "codemirror_mode": {
    "name": "ipython",
    "version": 3
   },
   "file_extension": ".py",
   "mimetype": "text/x-python",
   "name": "python",
   "nbconvert_exporter": "python",
   "pygments_lexer": "ipython3",
   "version": "3.8.3"
  }
 },
 "nbformat": 4,
 "nbformat_minor": 4
}
